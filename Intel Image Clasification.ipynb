{
 "cells": [
  {
   "cell_type": "code",
   "execution_count": 1,
   "metadata": {
    "ExecuteTime": {
     "end_time": "2021-02-09T11:08:16.733643Z",
     "start_time": "2021-02-09T11:08:15.014809Z"
    }
   },
   "outputs": [],
   "source": [
    "import pandas as pd\n",
    "import numpy as np\n",
    "import matplotlib.pyplot as plt\n",
    "import cv2\n",
    "import os"
   ]
  },
  {
   "cell_type": "code",
   "execution_count": 2,
   "metadata": {
    "ExecuteTime": {
     "end_time": "2021-02-09T11:08:26.143218Z",
     "start_time": "2021-02-09T11:08:17.522952Z"
    }
   },
   "outputs": [
    {
     "name": "stderr",
     "output_type": "stream",
     "text": [
      "Using TensorFlow backend.\n"
     ]
    }
   ],
   "source": [
    "import keras\n",
    "from keras.models import * \n",
    "from keras.layers import *\n",
    "from keras.optimizers import *\n",
    "from keras.preprocessing.image import ImageDataGenerator\n"
   ]
  },
  {
   "cell_type": "code",
   "execution_count": 3,
   "metadata": {
    "ExecuteTime": {
     "end_time": "2021-02-09T11:08:27.123946Z",
     "start_time": "2021-02-09T11:08:27.113972Z"
    }
   },
   "outputs": [
    {
     "data": {
      "text/plain": [
       "'C:\\\\Users\\\\Admin'"
      ]
     },
     "execution_count": 3,
     "metadata": {},
     "output_type": "execute_result"
    }
   ],
   "source": [
    "import os\n",
    "os.getcwd()"
   ]
  },
  {
   "cell_type": "code",
   "execution_count": 4,
   "metadata": {
    "ExecuteTime": {
     "end_time": "2021-02-09T11:08:31.745646Z",
     "start_time": "2021-02-09T11:08:28.496584Z"
    }
   },
   "outputs": [],
   "source": [
    "from sklearn.datasets import load_files\n",
    "import numpy as np\n",
    "\n",
    "train_dir = 'C:\\\\Users\\\\Admin\\\\Downloads\\\\int_image_train\\\\seg_train'\n",
    "test_dir = 'C:\\\\Users\\\\Admin\\\\Downloads\\\\int_image_test\\\\seg_test'\n",
    "\n"
   ]
  },
  {
   "cell_type": "code",
   "execution_count": 5,
   "metadata": {
    "ExecuteTime": {
     "end_time": "2021-02-09T11:08:53.271252Z",
     "start_time": "2021-02-09T11:08:33.418252Z"
    }
   },
   "outputs": [
    {
     "name": "stdout",
     "output_type": "stream",
     "text": [
      "Length of X_train : 14034 Length of Y_train:  14034\n",
      "Length of X_test : 3000 Length of Y_test:  3000\n"
     ]
    }
   ],
   "source": [
    "def load_data(path):\n",
    "    data = load_files(path)\n",
    "    files = np.array(data['filenames'])\n",
    "    targets = np.array(data['target'])\n",
    "    target_labels = np.array(data['target_names'])\n",
    "    return files,targets,target_labels\n",
    "    \n",
    "X_train, Y_train,target_labels = load_data(train_dir)\n",
    "X_test, Y_test,_ = load_data(test_dir)\n",
    "print('Length of X_train :',len(X_train), \"Length of Y_train: \",len(Y_train))\n",
    "print('Length of X_test :',len(X_test), \"Length of Y_test: \",len(Y_test))"
   ]
  },
  {
   "cell_type": "code",
   "execution_count": 6,
   "metadata": {
    "ExecuteTime": {
     "end_time": "2021-02-09T11:10:09.882900Z",
     "start_time": "2021-02-09T11:10:09.874618Z"
    }
   },
   "outputs": [
    {
     "data": {
      "text/plain": [
       "6"
      ]
     },
     "execution_count": 6,
     "metadata": {},
     "output_type": "execute_result"
    }
   ],
   "source": [
    "classes = len(np.unique((Y_train)))\n",
    "classes"
   ]
  },
  {
   "cell_type": "code",
   "execution_count": 7,
   "metadata": {
    "ExecuteTime": {
     "end_time": "2021-02-09T11:10:11.109789Z",
     "start_time": "2021-02-09T11:10:11.103798Z"
    }
   },
   "outputs": [
    {
     "name": "stdout",
     "output_type": "stream",
     "text": [
      "[2 0 5 5 3 4 2 1 2 3]\n"
     ]
    }
   ],
   "source": [
    "print(Y_train[0:10])\n",
    "\n",
    "#Target nos are in nos, we need to convert them to vectors"
   ]
  },
  {
   "cell_type": "code",
   "execution_count": 8,
   "metadata": {
    "ExecuteTime": {
     "end_time": "2021-02-09T11:10:13.089932Z",
     "start_time": "2021-02-09T11:10:13.079958Z"
    }
   },
   "outputs": [
    {
     "data": {
      "text/plain": [
       "array([0., 0., 1., 0., 0., 0.], dtype=float32)"
      ]
     },
     "execution_count": 8,
     "metadata": {},
     "output_type": "execute_result"
    }
   ],
   "source": [
    "from keras.utils import np_utils\n",
    "Y_train = np_utils.to_categorical(Y_train,classes)\n",
    "Y_test = np_utils.to_categorical(Y_test,classes)\n",
    "Y_train[0]\n",
    "# only third element has value 1(corresponding to its label) and others are 0."
   ]
  },
  {
   "cell_type": "code",
   "execution_count": 9,
   "metadata": {
    "ExecuteTime": {
     "end_time": "2021-02-09T11:10:15.272815Z",
     "start_time": "2021-02-09T11:10:15.265831Z"
    }
   },
   "outputs": [
    {
     "data": {
      "text/plain": [
       "array(['C:\\\\Users\\\\Admin\\\\Downloads\\\\int_image_train\\\\seg_train\\\\glacier\\\\6416.jpg',\n",
       "       'C:\\\\Users\\\\Admin\\\\Downloads\\\\int_image_train\\\\seg_train\\\\buildings\\\\5658.jpg',\n",
       "       'C:\\\\Users\\\\Admin\\\\Downloads\\\\int_image_train\\\\seg_train\\\\street\\\\7656.jpg',\n",
       "       ...,\n",
       "       'C:\\\\Users\\\\Admin\\\\Downloads\\\\int_image_train\\\\seg_train\\\\sea\\\\13907.jpg',\n",
       "       'C:\\\\Users\\\\Admin\\\\Downloads\\\\int_image_train\\\\seg_train\\\\sea\\\\3467.jpg',\n",
       "       'C:\\\\Users\\\\Admin\\\\Downloads\\\\int_image_train\\\\seg_train\\\\forest\\\\14133.jpg'],\n",
       "      dtype='<U70')"
      ]
     },
     "execution_count": 9,
     "metadata": {},
     "output_type": "execute_result"
    }
   ],
   "source": [
    "X_train \n",
    "#We only have file names in the x set so, we need to load the images and convert back to array"
   ]
  },
  {
   "cell_type": "code",
   "execution_count": 10,
   "metadata": {
    "ExecuteTime": {
     "end_time": "2021-02-09T11:11:53.418679Z",
     "start_time": "2021-02-09T11:10:16.190221Z"
    }
   },
   "outputs": [
    {
     "name": "stdout",
     "output_type": "stream",
     "text": [
      "X train shape :  (14034, 150, 150, 3)\n",
      "X test shape :  (3000, 150, 150, 3)\n"
     ]
    }
   ],
   "source": [
    "# We just have the file names in the x set. Let's load the images and convert them into array.\n",
    "from keras.preprocessing.image import array_to_img, img_to_array, load_img\n",
    "\n",
    "def revert_image_to_array(files):\n",
    "    images_array=[]\n",
    "    for file in files:\n",
    "        images_array.append(img_to_array(load_img(file,target_size=(150,150),color_mode=\"rgb\") ))\n",
    "    return images_array\n",
    "\n",
    "X_train = np.array(revert_image_to_array(X_train))\n",
    "print('X train shape : ',X_train.shape)\n",
    "\n",
    "X_test = np.array(revert_image_to_array(X_test))\n",
    "print('X test shape : ',X_test.shape)\n"
   ]
  },
  {
   "cell_type": "code",
   "execution_count": 11,
   "metadata": {
    "ExecuteTime": {
     "end_time": "2021-02-09T11:11:56.765225Z",
     "start_time": "2021-02-09T11:11:56.739114Z"
    }
   },
   "outputs": [
    {
     "name": "stdout",
     "output_type": "stream",
     "text": [
      "X train first image shape  (150, 150, 3)\n",
      "X train first image as array [[[124. 155. 202.]\n",
      "  [126. 157. 203.]\n",
      "  [130. 158. 205.]\n",
      "  ...\n",
      "  [ 89. 119. 171.]\n",
      "  [ 90. 120. 172.]\n",
      "  [ 93. 123. 175.]]\n",
      "\n",
      " [[119. 150. 197.]\n",
      "  [122. 153. 200.]\n",
      "  [125. 156. 202.]\n",
      "  ...\n",
      "  [ 86. 121. 175.]\n",
      "  [ 88. 123. 177.]\n",
      "  [ 88. 123. 177.]]\n",
      "\n",
      " [[116. 148. 195.]\n",
      "  [119. 151. 198.]\n",
      "  [123. 155. 202.]\n",
      "  ...\n",
      "  [ 92. 127. 181.]\n",
      "  [ 90. 125. 179.]\n",
      "  [ 85. 120. 174.]]\n",
      "\n",
      " ...\n",
      "\n",
      " [[ 43.  28.  21.]\n",
      "  [ 29.  15.   6.]\n",
      "  [ 39.  25.  16.]\n",
      "  ...\n",
      "  [ 36.  20.  23.]\n",
      "  [ 35.  19.  20.]\n",
      "  [ 69.  50.  52.]]\n",
      "\n",
      " [[ 33.  16.   9.]\n",
      "  [ 31.  14.   7.]\n",
      "  [ 53.  36.  28.]\n",
      "  ...\n",
      "  [ 34.  15.  19.]\n",
      "  [ 15.   0.   0.]\n",
      "  [ 56.  37.  41.]]\n",
      "\n",
      " [[ 45.  26.  22.]\n",
      "  [ 37.  18.  12.]\n",
      "  [ 38.  19.  13.]\n",
      "  ...\n",
      "  [ 84.  65.  69.]\n",
      "  [ 78.  59.  63.]\n",
      "  [ 29.  10.  14.]]]\n"
     ]
    }
   ],
   "source": [
    "print('X train first image shape ',X_train[0].shape)\n",
    "\n",
    "print('X train first image as array',X_train[0])\n",
    "\n",
    "\n",
    "#We need to rescale these values given in the array"
   ]
  },
  {
   "cell_type": "code",
   "execution_count": 12,
   "metadata": {
    "ExecuteTime": {
     "end_time": "2021-02-09T11:12:37.322540Z",
     "start_time": "2021-02-09T11:11:57.610180Z"
    }
   },
   "outputs": [
    {
     "data": {
      "text/plain": [
       "array([[[0.4862745 , 0.60784316, 0.7921569 ],\n",
       "        [0.49411765, 0.6156863 , 0.79607844],\n",
       "        [0.50980395, 0.61960787, 0.8039216 ],\n",
       "        ...,\n",
       "        [0.34901962, 0.46666667, 0.67058825],\n",
       "        [0.3529412 , 0.47058824, 0.6745098 ],\n",
       "        [0.3647059 , 0.48235294, 0.6862745 ]],\n",
       "\n",
       "       [[0.46666667, 0.5882353 , 0.77254903],\n",
       "        [0.47843137, 0.6       , 0.78431374],\n",
       "        [0.49019608, 0.6117647 , 0.7921569 ],\n",
       "        ...,\n",
       "        [0.3372549 , 0.4745098 , 0.6862745 ],\n",
       "        [0.34509805, 0.48235294, 0.69411767],\n",
       "        [0.34509805, 0.48235294, 0.69411767]],\n",
       "\n",
       "       [[0.45490196, 0.5803922 , 0.7647059 ],\n",
       "        [0.46666667, 0.5921569 , 0.7764706 ],\n",
       "        [0.48235294, 0.60784316, 0.7921569 ],\n",
       "        ...,\n",
       "        [0.36078432, 0.49803922, 0.70980394],\n",
       "        [0.3529412 , 0.49019608, 0.7019608 ],\n",
       "        [0.33333334, 0.47058824, 0.68235296]],\n",
       "\n",
       "       ...,\n",
       "\n",
       "       [[0.16862746, 0.10980392, 0.08235294],\n",
       "        [0.11372549, 0.05882353, 0.02352941],\n",
       "        [0.15294118, 0.09803922, 0.0627451 ],\n",
       "        ...,\n",
       "        [0.14117648, 0.07843138, 0.09019608],\n",
       "        [0.13725491, 0.07450981, 0.07843138],\n",
       "        [0.27058825, 0.19607843, 0.20392157]],\n",
       "\n",
       "       [[0.12941177, 0.0627451 , 0.03529412],\n",
       "        [0.12156863, 0.05490196, 0.02745098],\n",
       "        [0.20784314, 0.14117648, 0.10980392],\n",
       "        ...,\n",
       "        [0.13333334, 0.05882353, 0.07450981],\n",
       "        [0.05882353, 0.        , 0.        ],\n",
       "        [0.21960784, 0.14509805, 0.16078432]],\n",
       "\n",
       "       [[0.1764706 , 0.10196079, 0.08627451],\n",
       "        [0.14509805, 0.07058824, 0.04705882],\n",
       "        [0.14901961, 0.07450981, 0.05098039],\n",
       "        ...,\n",
       "        [0.32941177, 0.25490198, 0.27058825],\n",
       "        [0.30588236, 0.23137255, 0.24705882],\n",
       "        [0.11372549, 0.03921569, 0.05490196]]], dtype=float32)"
      ]
     },
     "execution_count": 12,
     "metadata": {},
     "output_type": "execute_result"
    }
   ],
   "source": [
    "# time to re-scale so that all the pixel values lie within 0 to 1\n",
    "X_train = np.true_divide(X_train, 255)\n",
    "X_test = np.true_divide(X_test, 255)\n",
    "X_train[0]"
   ]
  },
  {
   "cell_type": "code",
   "execution_count": 13,
   "metadata": {
    "ExecuteTime": {
     "end_time": "2021-02-09T11:12:49.543719Z",
     "start_time": "2021-02-09T11:12:48.483779Z"
    }
   },
   "outputs": [
    {
     "name": "stdout",
     "output_type": "stream",
     "text": [
      "Model: \"sequential_1\"\n",
      "_________________________________________________________________\n",
      "Layer (type)                 Output Shape              Param #   \n",
      "=================================================================\n",
      "conv2d_1 (Conv2D)            (None, 150, 150, 128)     1664      \n",
      "_________________________________________________________________\n",
      "max_pooling2d_1 (MaxPooling2 (None, 75, 75, 128)       0         \n",
      "_________________________________________________________________\n",
      "conv2d_2 (Conv2D)            (None, 75, 75, 64)        32832     \n",
      "_________________________________________________________________\n",
      "max_pooling2d_2 (MaxPooling2 (None, 37, 37, 64)        0         \n",
      "_________________________________________________________________\n",
      "dropout_1 (Dropout)          (None, 37, 37, 64)        0         \n",
      "_________________________________________________________________\n",
      "flatten_1 (Flatten)          (None, 87616)             0         \n",
      "_________________________________________________________________\n",
      "dense_1 (Dense)              (None, 32)                2803744   \n",
      "_________________________________________________________________\n",
      "dropout_2 (Dropout)          (None, 32)                0         \n",
      "_________________________________________________________________\n",
      "dense_2 (Dense)              (None, 6)                 198       \n",
      "=================================================================\n",
      "Total params: 2,838,438\n",
      "Trainable params: 2,838,438\n",
      "Non-trainable params: 0\n",
      "_________________________________________________________________\n"
     ]
    }
   ],
   "source": [
    "from keras.models import Sequential\n",
    "from keras.layers import Conv2D,MaxPooling2D\n",
    "from keras.layers import Activation, Dense, Flatten, Dropout\n",
    "from keras.preprocessing.image import ImageDataGenerator\n",
    "from keras.callbacks import ModelCheckpoint\n",
    "\n",
    "\n",
    "\n",
    "model = Sequential()\n",
    "model.add(Conv2D(filters = 128, kernel_size = 2,activation= 'relu', input_shape=(150,150,3),padding='same'))\n",
    "model.add(MaxPooling2D(pool_size=2))\n",
    "\n",
    "model.add(Conv2D(filters = 64,kernel_size = 2,activation= 'relu',padding='same'))\n",
    "model.add(MaxPooling2D(pool_size=2))\n",
    "\n",
    "\n",
    "model.add(Dropout(0.3))\n",
    "model.add(Flatten())\n",
    "model.add(Dense(32,kernel_initializer='glorot_uniform',activation = 'relu'))\n",
    "model.add(Dropout(0.4))\n",
    "model.add(Dense(6,activation = 'softmax'))\n",
    "\n",
    "\n",
    "model.summary()\n",
    "\n",
    "\n",
    "\n",
    "\n"
   ]
  },
  {
   "cell_type": "code",
   "execution_count": 14,
   "metadata": {
    "ExecuteTime": {
     "end_time": "2021-02-09T11:12:56.304333Z",
     "start_time": "2021-02-09T11:12:56.122870Z"
    }
   },
   "outputs": [],
   "source": [
    "model.compile(loss='categorical_crossentropy',\n",
    "              optimizer='adam',\n",
    "              metrics=['accuracy'])\n"
   ]
  },
  {
   "cell_type": "code",
   "execution_count": 15,
   "metadata": {
    "ExecuteTime": {
     "end_time": "2021-02-09T11:13:00.710882Z",
     "start_time": "2021-02-09T11:12:59.384742Z"
    }
   },
   "outputs": [
    {
     "data": {
      "image/png": "[encoded data removed]",
      "text/plain": [
       "<IPython.core.display.Image object>"
      ]
     },
     "execution_count": 15,
     "metadata": {},
     "output_type": "execute_result"
    }
   ],
   "source": [
    "from keras.utils import plot_model\n",
    "plot_model(model, to_file = 'model.png')"
   ]
  },
  {
   "cell_type": "code",
   "execution_count": 17,
   "metadata": {
    "ExecuteTime": {
     "end_time": "2021-02-09T12:52:09.864849Z",
     "start_time": "2021-02-09T12:52:09.858863Z"
    }
   },
   "outputs": [],
   "source": [
    "from keras.callbacks import *\n",
    "history1 = History()"
   ]
  },
  {
   "cell_type": "code",
   "execution_count": 16,
   "metadata": {
    "ExecuteTime": {
     "end_time": "2021-02-09T12:50:48.880943Z",
     "start_time": "2021-02-09T11:13:16.984860Z"
    }
   },
   "outputs": [
    {
     "name": "stdout",
     "output_type": "stream",
     "text": [
      "Train on 14034 samples, validate on 3000 samples\n",
      "Epoch 1/25\n",
      "14034/14034 [==============================] - 999s 71ms/step - loss: 1.4567 - accuracy: 0.4321 - val_loss: 1.1918 - val_accuracy: 0.6327\n",
      "Epoch 2/25\n",
      "14034/14034 [==============================] - 963s 69ms/step - loss: 1.2145 - accuracy: 0.5334 - val_loss: 1.0421 - val_accuracy: 0.6710\n",
      "Epoch 3/25\n",
      "14034/14034 [==============================] - 735s 52ms/step - loss: 1.0264 - accuracy: 0.5878 - val_loss: 0.8725 - val_accuracy: 0.7217\n",
      "Epoch 4/25\n",
      "14034/14034 [==============================] - 718s 51ms/step - loss: 0.9241 - accuracy: 0.6323 - val_loss: 0.8156 - val_accuracy: 0.7217\n",
      "Epoch 5/25\n",
      "14034/14034 [==============================] - 719s 51ms/step - loss: 0.8483 - accuracy: 0.6667 - val_loss: 0.7186 - val_accuracy: 0.7597\n",
      "Epoch 6/25\n",
      "14034/14034 [==============================] - 715s 51ms/step - loss: 0.8059 - accuracy: 0.6734 - val_loss: 0.7976 - val_accuracy: 0.7160\n",
      "Epoch 7/25\n",
      "14034/14034 [==============================] - 1001s 71ms/step - loss: 0.7598 - accuracy: 0.6921 - val_loss: 0.7343 - val_accuracy: 0.7427\n"
     ]
    }
   ],
   "source": [
    "lrr = ReduceLROnPlateau(monitor = 'val_loss',factor = 0.1, patience = 2, verbose = 0,mode = 'auto', min_delta = 0.0001,cooldown = 0,min_lr = 0)\n",
    "earlystop = EarlyStopping(monitor = 'val_accuracy', min_delta = 0,patience = 2,verbose = 0, mode = 'auto',baseline = None,restore_best_weights = True)\n",
    "#checkpointer = ModelCheckpoint(filepath = 'cnn_from_intel_class.hdf5', verbose = 1, save_best_only = True)\n",
    "\n",
    "history= model.fit(X_train,Y_train,validation_data=(X_test,Y_test),epochs=25,callbacks=[lrr,earlystop])"
   ]
  },
  {
   "cell_type": "code",
   "execution_count": 19,
   "metadata": {
    "ExecuteTime": {
     "end_time": "2021-02-09T12:54:16.122946Z",
     "start_time": "2021-02-09T12:54:16.114971Z"
    }
   },
   "outputs": [],
   "source": [
    "import matplotlib.pyplot as plt\n",
    "import seaborn as sns\n",
    "color = sns.color_palette()\n",
    "%matplotlib inline\n",
    "acc = history.history['accuracy']\n",
    "val_acc = history.history['val_accuracy']\n",
    "loss = history.history['loss']\n",
    "val_loss = history.history['val_loss']"
   ]
  },
  {
   "cell_type": "code",
   "execution_count": 23,
   "metadata": {
    "ExecuteTime": {
     "end_time": "2021-02-09T12:58:29.384260Z",
     "start_time": "2021-02-09T12:58:29.380274Z"
    }
   },
   "outputs": [],
   "source": [
    "import warnings\n",
    "warnings.filterwarnings('ignore')"
   ]
  },
  {
   "cell_type": "code",
   "execution_count": 24,
   "metadata": {
    "ExecuteTime": {
     "end_time": "2021-02-09T12:58:34.216134Z",
     "start_time": "2021-02-09T12:58:33.963761Z"
    }
   },
   "outputs": [
    {
     "data": {
      "image/png": "[encoded data removed]",
      "text/plain": [
       "<Figure size 432x288 with 1 Axes>"
      ]
     },
     "metadata": {
      "needs_background": "light"
     },
     "output_type": "display_data"
    },
    {
     "data": {
      "text/plain": [
       "<Figure size 432x288 with 0 Axes>"
      ]
     },
     "metadata": {},
     "output_type": "display_data"
    }
   ],
   "source": [
    "epochs = range(len(acc))\n",
    "sns.lineplot(epochs,acc,label = 'Training Accuracy')\n",
    "sns.lineplot(epochs,val_acc,label='Validation Accuracy')\n",
    "plt.title('Training and Validation Accuracy')\n",
    "plt.legend()\n",
    "plt.figure();"
   ]
  },
  {
   "cell_type": "code",
   "execution_count": 25,
   "metadata": {
    "ExecuteTime": {
     "end_time": "2021-02-09T12:59:44.540266Z",
     "start_time": "2021-02-09T12:59:44.284295Z"
    }
   },
   "outputs": [
    {
     "data": {
      "image/png": "[encoded data removed]",
      "text/plain": [
       "<Figure size 432x288 with 1 Axes>"
      ]
     },
     "metadata": {
      "needs_background": "light"
     },
     "output_type": "display_data"
    },
    {
     "data": {
      "text/plain": [
       "<Figure size 432x288 with 0 Axes>"
      ]
     },
     "metadata": {},
     "output_type": "display_data"
    }
   ],
   "source": [
    "epochs = range(len(acc))\n",
    "sns.lineplot(epochs,loss,label = 'Training loss')\n",
    "sns.lineplot(epochs,val_loss,label='Validation loss')\n",
    "plt.title('Training and Validation loss')\n",
    "plt.legend()\n",
    "plt.figure();"
   ]
  },
  {
   "cell_type": "code",
   "execution_count": 27,
   "metadata": {
    "ExecuteTime": {
     "end_time": "2021-02-09T13:01:25.461925Z",
     "start_time": "2021-02-09T13:00:50.027676Z"
    }
   },
   "outputs": [
    {
     "name": "stdout",
     "output_type": "stream",
     "text": [
      "3000/3000 [==============================] - 35s 12ms/step\n",
      "\n",
      " Test accuracy: 0.7596666812896729\n"
     ]
    }
   ],
   "source": [
    "# evaluate and print test accuracy\n",
    "score = model.evaluate(X_test, Y_test, verbose=1)\n",
    "print('\\n', 'Test accuracy:', score[1])\n"
   ]
  },
  {
   "cell_type": "code",
   "execution_count": 29,
   "metadata": {
    "ExecuteTime": {
     "end_time": "2021-02-09T13:02:04.447339Z",
     "start_time": "2021-02-09T13:02:04.261450Z"
    }
   },
   "outputs": [],
   "source": [
    "# load the weights that yielded the best validation accuracy\n",
    "#model.load_weights('cnn_from_intel_class_.hdf5')\n",
    "# saving the model with 76.60% accuracy\n",
    "model.save('cnn_intel_img_clf_.model')"
   ]
  },
  {
   "cell_type": "code",
   "execution_count": null,
   "metadata": {},
   "outputs": [],
   "source": [
    "# loading the saved model\n",
    "#from keras.models import load_model\n",
    "#model1 = load_model('Perfect.model')"
   ]
  },
  {
   "cell_type": "code",
   "execution_count": 30,
   "metadata": {
    "ExecuteTime": {
     "end_time": "2021-02-09T13:03:14.165560Z",
     "start_time": "2021-02-09T13:02:38.196246Z"
    }
   },
   "outputs": [
    {
     "data": {
      "text/plain": [
       "array([0, 5, 3, ..., 3, 5, 5], dtype=int64)"
      ]
     },
     "execution_count": 30,
     "metadata": {},
     "output_type": "execute_result"
    }
   ],
   "source": [
    "# Let's visualize test prediction.\n",
    "\n",
    "y_pred = model.predict_classes(X_test)\n",
    "y_pred"
   ]
  },
  {
   "cell_type": "code",
   "execution_count": 34,
   "metadata": {
    "ExecuteTime": {
     "end_time": "2021-02-09T13:04:30.402231Z",
     "start_time": "2021-02-09T13:04:30.395252Z"
    }
   },
   "outputs": [
    {
     "data": {
      "text/plain": [
       "array([[1., 0., 0., 0., 0., 0.],\n",
       "       [0., 0., 1., 0., 0., 0.],\n",
       "       [0., 0., 0., 1., 0., 0.],\n",
       "       ...,\n",
       "       [0., 0., 0., 1., 0., 0.],\n",
       "       [0., 0., 0., 0., 0., 1.],\n",
       "       [0., 0., 0., 0., 0., 1.]], dtype=float32)"
      ]
     },
     "execution_count": 34,
     "metadata": {},
     "output_type": "execute_result"
    }
   ],
   "source": [
    "Y_test"
   ]
  },
  {
   "cell_type": "code",
   "execution_count": 35,
   "metadata": {
    "ExecuteTime": {
     "end_time": "2021-02-09T13:09:54.936746Z",
     "start_time": "2021-02-09T13:09:52.493179Z"
    }
   },
   "outputs": [
    {
     "name": "stdout",
     "output_type": "stream",
     "text": [
      "Length of X_test : 3000 Length of Y_test:  3000\n"
     ]
    }
   ],
   "source": [
    "X_test, Y_test,_ = load_data(test_dir)\n",
    "print('Length of X_test :',len(X_test), \"Length of Y_test: \",len(Y_test))"
   ]
  },
  {
   "cell_type": "code",
   "execution_count": 36,
   "metadata": {
    "ExecuteTime": {
     "end_time": "2021-02-09T13:10:04.449149Z",
     "start_time": "2021-02-09T13:10:04.443163Z"
    }
   },
   "outputs": [
    {
     "data": {
      "text/plain": [
       "array([0, 2, 3, ..., 3, 5, 5])"
      ]
     },
     "execution_count": 36,
     "metadata": {},
     "output_type": "execute_result"
    }
   ],
   "source": [
    "Y_test"
   ]
  },
  {
   "cell_type": "code",
   "execution_count": 37,
   "metadata": {
    "ExecuteTime": {
     "end_time": "2021-02-09T13:10:07.775032Z",
     "start_time": "2021-02-09T13:10:07.765058Z"
    }
   },
   "outputs": [
    {
     "name": "stdout",
     "output_type": "stream",
     "text": [
      "Accuracy score fore testing :  0.7596666666666667\n"
     ]
    }
   ],
   "source": [
    "from sklearn.metrics import confusion_matrix, classification_report, accuracy_score\n",
    "\n",
    "print('Accuracy score fore testing : ',accuracy_score(y_pred,Y_test))"
   ]
  },
  {
   "cell_type": "code",
   "execution_count": null,
   "metadata": {},
   "outputs": [],
   "source": []
  }
 ],
 "metadata": {
  "kernelspec": {
   "display_name": "Python 3",
   "language": "python",
   "name": "python3"
  },
  "language_info": {
   "codemirror_mode": {
    "name": "ipython",
    "version": 3
   },
   "file_extension": ".py",
   "mimetype": "text/x-python",
   "name": "python",
   "nbconvert_exporter": "python",
   "pygments_lexer": "ipython3",
   "version": "3.8.5"
  },
  "varInspector": {
   "cols": {
    "lenName": 16,
    "lenType": 16,
    "lenVar": 40
   },
   "kernels_config": {
    "python": {
     "delete_cmd_postfix": "",
     "delete_cmd_prefix": "del ",
     "library": "var_list.py",
     "varRefreshCmd": "print(var_dic_list())"
    },
    "r": {
     "delete_cmd_postfix": ") ",
     "delete_cmd_prefix": "rm(",
     "library": "var_list.r",
     "varRefreshCmd": "cat(var_dic_list()) "
    }
   },
   "types_to_exclude": [
    "module",
    "function",
    "builtin_function_or_method",
    "instance",
    "_Feature"
   ],
   "window_display": false
  }
 },
 "nbformat": 4,
 "nbformat_minor": 4
}
